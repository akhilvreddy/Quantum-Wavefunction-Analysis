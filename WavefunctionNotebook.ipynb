{
 "cells": [
  {
   "cell_type": "markdown",
   "id": "cdce4017",
   "metadata": {},
   "source": [
    "# Time-Dependent Schrodinger Equation Visualized"
   ]
  },
  {
   "cell_type": "markdown",
   "id": "02b75f8d",
   "metadata": {},
   "source": [
    "The Schrodinger equation is written as the following: \n",
    "\n",
    "$$ i \\hbar \\frac{\\partial}{\\partial t} \\psi(x,t) = -\\frac{\\hbar^2}{2m}\\frac{\\partial^2}{\\partial x^2}\\psi(x,t) + V(x) \\psi(x,t) \\hspace{20mm} \\psi(0, t) = \\psi(L,t)=0 $$\n",
    "\n",
    "You can kind of think of this as like conservation of energy for quantum-sized particles. The left hand term is the total energy and the two right hand terms are kinetic energy and potential energy of the particle, respectively.  \n",
    "\n",
    "Some variables can be dropped from our equation from simplification such as: $m$, $\\hbar$, and others. We can multiply both sides by $mL^2$ where $L$ is the characteristic length of the particle's journey.\n",
    "\n",
    "$$ i mL^2 \\hbar \\frac{\\partial}{\\partial t} \\psi = -\\frac{1}{2}\\hbar^2 L^2\\frac{\\partial^2}{\\partial x^2}\\psi + mL^2V(x) \\psi $$\n",
    "\n",
    "Taking $\\hbar=1$ (So Joules=1/Seconds) we can change variables to make the equation look a little cleaner. Making the transformation: \n",
    "\n",
    "* $x'=\\frac{x}{L}$\n",
    "* $t' = \\frac{t}{mL^2}$\n",
    "* $V' = mL^2V$\n",
    "\n",
    "These quantities are dimensionless so it is easy for us do our calcualtions now. We also don't have to worry about units when doing our calcualtions. "
   ]
  },
  {
   "cell_type": "code",
   "execution_count": 3,
   "id": "9c6fb6e0",
   "metadata": {},
   "outputs": [],
   "source": [
    "import numpy as np\n",
    "import matplotlib.pyplot as plt\n",
    "from matplotlib import animation\n",
    "from matplotlib.animation import PillowWriter\n",
    "import numba\n",
    "from numba import jit\n",
    "from scipy.linalg import eigh_tridiagonal\n"
   ]
  },
  {
   "cell_type": "markdown",
   "id": "d7118d53",
   "metadata": {},
   "source": [
    "## Imports & Getting started\n",
    "\n",
    "There are many imports that we must do in order to create plots, animations, and do the computations involving linear algebra. \n",
    "\n",
    " - **import numpy** - this is needed to bring in the computation package numpy which allows us to do this type of math\n",
    " - **import matplotlib.pyplot** - we need this to generate the plots of the wavefunctions \n",
    " - **import animation** - once we have generated our plots, I want to animate them so we can see how they change over time  \n",
    " - **import numba** - this is mainly for the execution level, it converts python code to machien code to improve speed\n",
    "   - **import jit** - the part from **numba**, the main part that speeds up the code\n",
    " - **import eigh_tridiagonal** - solves the eigenvalue problem for a symmetric matrix (tridiagonal specification helps speed)"
   ]
  },
  {
   "cell_type": "markdown",
   "id": "0159caa9",
   "metadata": {},
   "source": [
    "# Method #1 \n",
    "\n",
    "The first way we can solve the above equation for $\\psi(x,t)$ with the given boundary conditions is: \n",
    "\n",
    "Creating discrete points for the x-axis and discrete points for the y-axis so we can put these into the equation and get answer values. This method is kind of \"hard-coding\" our solution, but works well. \n",
    "\n",
    "We make a discrete grid with spacings of $\\Delta x$ and $\\Delta t$. Then, our $\\psi_j^{m} $ becomes $ \\psi(j\\Delta x, m\\Delta t)$. \n",
    "\n",
    "$$i\\frac{\\psi_{j}^{m+1} - \\psi_{j}^{m}}{\\Delta t} = - \\frac{1}{2}\\frac{\\psi_{j+1}^{m} -2\\psi_j^m + \\psi_{j-1}^{m}}{\\Delta x^2} +V(x)\\psi_j^m$$\n",
    "\n",
    "A simpler (and easier) way of writing this is, \n",
    "\n",
    "$$\\psi_{j}^{m+1} = \\psi_j^m + \\frac{i}{2}\\frac{\\Delta t}{\\Delta x^2}\\left(\\psi_{j+1}^{m} -2\\psi_j^m + \\psi_{j-1}^{m}\\right) - i \\Delta tV(x)\\psi_j^m$$"
   ]
  },
  {
   "cell_type": "code",
   "execution_count": 4,
   "id": "508a741e",
   "metadata": {},
   "outputs": [],
   "source": [
    "Nx = 301\n",
    "Nt = 100000\n",
    "dx = 1/(Nx-1)\n",
    "dt=1e-7\n",
    "x = np.linspace(0, 1, Nx)\n",
    "psi0 = np.sqrt(2)*np.sin(np.pi*x)\n",
    "mu, sigma = 1/2, 1/20\n",
    "V = -1e4*np.exp(-(x-mu)**2/(2*sigma**2))"
   ]
  },
  {
   "cell_type": "markdown",
   "id": "f8b0f4ad",
   "metadata": {},
   "source": [
    "Here, we are creating variables to carry out our calculations. *Nx* represents the __ and *Nt* is the __ . We creating the x-axis using discrete values by using the numpy function *linspace*. The actual wavefunction, psi, was creating by using the one dimensional box with high potential setting. The potential, marked as V, is a function of *sigma* and *mu*, which are constants from nature.  \n"
   ]
  },
  {
   "cell_type": "code",
   "execution_count": 5,
   "id": "a9c251bf",
   "metadata": {},
   "outputs": [
    {
     "data": {
      "text/plain": [
       "0.008999999999999998"
      ]
     },
     "execution_count": 5,
     "metadata": {},
     "output_type": "execute_result"
    }
   ],
   "source": [
    "dt/dx**2"
   ]
  },
  {
   "cell_type": "markdown",
   "id": "af61320d",
   "metadata": {},
   "source": [
    "This value of (dt/dx) is the derivative of space. We need it to be small in order to go through our calcualtions to know we are within boundaries. When it is small, that is when we can have good plots. "
   ]
  },
  {
   "cell_type": "code",
   "execution_count": 6,
   "id": "d14b122e",
   "metadata": {},
   "outputs": [
    {
     "data": {
      "text/plain": [
       "Text(0, 0.5, '$V(x)$')"
      ]
     },
     "execution_count": 6,
     "metadata": {},
     "output_type": "execute_result"
    },
    {
     "data": {
      "image/png": "[encoded data removed]",
      "text/plain": [
       "<Figure size 576x216 with 1 Axes>"
      ]
     },
     "metadata": {
      "needs_background": "light"
     },
     "output_type": "display_data"
    }
   ],
   "source": [
    "plt.figure(figsize=(8,3))\n",
    "plt.plot(x,V)\n",
    "plt.xlabel('$x$')\n",
    "plt.ylabel('$V(x)$')"
   ]
  },
  {
   "cell_type": "markdown",
   "id": "df77775f",
   "metadata": {},
   "source": [
    "The diagram above shows us the ***Potential vs. X axis***. We can see how it is negative, and close to 0 farther away from x = 0.5. This is the potential we are modeling our particle to be in. It is significantly more differnet than the infinite potential wall, which essentially looks like a well.  "
   ]
  },
  {
   "cell_type": "code",
   "execution_count": 7,
   "id": "e22581b7",
   "metadata": {},
   "outputs": [],
   "source": [
    "psi = np.zeros([Nt,Nx])\n",
    "psi[0] = psi0"
   ]
  },
  {
   "cell_type": "code",
   "execution_count": 8,
   "id": "0eceb13d",
   "metadata": {},
   "outputs": [
    {
     "data": {
      "text/plain": [
       "array([[0.00000000e+00, 1.48093391e-02, 2.96170542e-02, ...,\n",
       "        2.96170542e-02, 1.48093391e-02, 1.73191211e-16],\n",
       "       [0.00000000e+00, 0.00000000e+00, 0.00000000e+00, ...,\n",
       "        0.00000000e+00, 0.00000000e+00, 0.00000000e+00],\n",
       "       [0.00000000e+00, 0.00000000e+00, 0.00000000e+00, ...,\n",
       "        0.00000000e+00, 0.00000000e+00, 0.00000000e+00],\n",
       "       ...,\n",
       "       [0.00000000e+00, 0.00000000e+00, 0.00000000e+00, ...,\n",
       "        0.00000000e+00, 0.00000000e+00, 0.00000000e+00],\n",
       "       [0.00000000e+00, 0.00000000e+00, 0.00000000e+00, ...,\n",
       "        0.00000000e+00, 0.00000000e+00, 0.00000000e+00],\n",
       "       [0.00000000e+00, 0.00000000e+00, 0.00000000e+00, ...,\n",
       "        0.00000000e+00, 0.00000000e+00, 0.00000000e+00]])"
      ]
     },
     "execution_count": 8,
     "metadata": {},
     "output_type": "execute_result"
    }
   ],
   "source": [
    "psi"
   ]
  },
  {
   "cell_type": "code",
   "execution_count": 9,
   "id": "2b8a4fcf",
   "metadata": {},
   "outputs": [],
   "source": [
    "@numba.jit(\"c16[:,:](c16[:,:])\", nopython=True, nogil=True)\n",
    "def compute_psi(psi):\n",
    "    for t in range(0, Nt-1):\n",
    "        for i in range(1, Nx-1):\n",
    "            psi[t+1][i] = psi[t][i] + 1j/2 * dt/dx**2 * (psi[t][i+1] - 2*psi[t][i] + psi[t][i-1]) - 1j*dt*V[i]*psi[t][i]\n",
    "        \n",
    "        normal = np.sum(np.absolute(psi[t+1])**2)*dx\n",
    "        for i in range(1, Nx-1):\n",
    "            psi[t+1][i] = psi[t+1][i]/normal\n",
    "        \n",
    "    return psi"
   ]
  },
  {
   "cell_type": "code",
   "execution_count": 10,
   "id": "af1dfee6",
   "metadata": {},
   "outputs": [],
   "source": [
    "psi_m1 = compute_psi(psi.astype(complex))"
   ]
  },
  {
   "cell_type": "code",
   "execution_count": 11,
   "id": "a04af89c",
   "metadata": {},
   "outputs": [
    {
     "data": {
      "text/plain": [
       "[<matplotlib.lines.Line2D at 0x21ac2f844c0>]"
      ]
     },
     "execution_count": 11,
     "metadata": {},
     "output_type": "execute_result"
    },
    {
     "data": {
      "image/png": "[encoded data removed]",
      "text/plain": [
       "<Figure size 432x288 with 1 Axes>"
      ]
     },
     "metadata": {
      "needs_background": "light"
     },
     "output_type": "display_data"
    }
   ],
   "source": [
    "plt.plot(x, np.absolute(psi_m1[5000])**2)\n",
    "#np.sum(np.absolute(psi_m1[10000])**2)*dx"
   ]
  },
  {
   "cell_type": "markdown",
   "id": "04fc05cb",
   "metadata": {},
   "source": [
    "# Method #2\n",
    "\n",
    "This is the method we learn in school. It's the way you would find you would find someone solving the schrodinger equation on youtube or in a textbook. \n",
    "\n",
    "We first create a grid, but only for the x-axis values:"
   ]
  },
  {
   "cell_type": "code",
   "execution_count": 12,
   "id": "dfb3a516",
   "metadata": {},
   "outputs": [],
   "source": [
    "Nx = 301\n",
    "dx = 1/(Nx-1)\n",
    "x = np.linspace(0, 1, Nx)\n",
    "psi0 = np.sqrt(2)*np.sin(np.pi*x)\n",
    "\n",
    "def V(x):\n",
    "    mu, sigma = 1/2, 1/20\n",
    "    return -1e4*np.exp(-(x-1/2)**2/(2*(1/20)**2))"
   ]
  },
  {
   "cell_type": "markdown",
   "id": "49148a1a",
   "metadata": {},
   "source": [
    "Then, we create a matrix that would hold different values of the wavefunction. Then, it can also find the eigenstates using the *eigh_tridiagonal* function. "
   ]
  },
  {
   "cell_type": "code",
   "execution_count": 13,
   "id": "4ea7ae9e",
   "metadata": {},
   "outputs": [],
   "source": [
    "d = 1/dx**2 + V(x)[1:-1]\n",
    "e = -1/(2*dx**2) * np.ones(len(d)-1)\n",
    "w, v = eigh_tridiagonal(d, e)"
   ]
  },
  {
   "cell_type": "markdown",
   "id": "0a93734f",
   "metadata": {},
   "source": [
    "Lastly, we would need eigenstates and eigen-energies in order to get the final values of $\\psi(x,t)$. Once we have $\\psi(x,t)$ we can plot them and see what the wavefunction looks like. \n",
    "\n",
    " Eigenstates would be $\\psi_j$ and eigen-energies would be $E_j$: \n",
    " \n",
    " $$\\psi(x,t) = \\sum_{j=0}^\\infty c_j \\psi_j(x) e^{-i E_j t} \\hspace{20mm} c_j = \\int_{-\\infty}^{\\infty} \\psi(x, 0)\\psi_j^*(x) dx$$ "
   ]
  },
  {
   "cell_type": "code",
   "execution_count": 14,
   "id": "8f300388",
   "metadata": {},
   "outputs": [],
   "source": [
    "E_js = w[0:70]\n",
    "psi_js = np.pad(v.T[0:70], [(0, 0), (1, 1)], mode='constant')\n",
    "cs = np.dot(psi_js, psi0)\n",
    "def psi_m2(t):\n",
    "    return psi_js.T@(cs*np.exp(-1j*E_js*t))"
   ]
  },
  {
   "cell_type": "markdown",
   "id": "fb2552c2",
   "metadata": {},
   "source": [
    "Now that we have our wavefunction, we can plot it *squared* in order to show us the probability function. "
   ]
  },
  {
   "cell_type": "code",
   "execution_count": 19,
   "id": "f42679a7",
   "metadata": {},
   "outputs": [
    {
     "data": {
      "text/plain": [
       "[<matplotlib.lines.Line2D at 0x21aa6002940>]"
      ]
     },
     "execution_count": 19,
     "metadata": {},
     "output_type": "execute_result"
    },
    {
     "data": {
      "image/png": "[encoded data removed]",
      "text/plain": [
       "<Figure size 576x216 with 1 Axes>"
      ]
     },
     "metadata": {
      "needs_background": "light"
     },
     "output_type": "display_data"
    }
   ],
   "source": [
    "plt.figure(figsize=(8,3))\n",
    "plt.plot(x, psi0**2)\n",
    "plt.plot(x, np.absolute(psi_m2(10000*dt))**2)"
   ]
  },
  {
   "cell_type": "code",
   "execution_count": 18,
   "id": "62d1b014",
   "metadata": {},
   "outputs": [
    {
     "data": {
      "image/png": "[encoded data removed]",
      "text/plain": [
       "<Figure size 576x288 with 1 Axes>"
      ]
     },
     "metadata": {
      "needs_background": "light"
     },
     "output_type": "display_data"
    }
   ],
   "source": [
    "def animate(i):\n",
    "    ln1.set_data(x, np.absolute(psi_m1[100*i])**2)\n",
    "    ln2.set_data(x, np.absolute(psi_m2(100*i*dt))**2)\n",
    "    time_text.set_text('$(10^4 mL^2)^{-1}t=$'+'{:.1f}'.format(100*i*dt*1e4))\n",
    "    \n",
    "fig, ax = plt.subplots(1,1, figsize=(8,4))\n",
    "#ax.grid()\n",
    "ln1, = plt.plot([], [], 'r-', lw=2, markersize=8, label='Method 1')\n",
    "ln2, = plt.plot([], [], 'b--', lw=3, markersize=8, label='Method 2')\n",
    "time_text = ax.text(0.65, 16, '', fontsize=15,\n",
    "           bbox=dict(facecolor='white', edgecolor='black'))\n",
    "ax.set_ylim(-1, 20)\n",
    "ax.set_xlim(0,1)\n",
    "ax.set_ylabel('$|\\psi(x)|^2$', fontsize=20)\n",
    "ax.set_xlabel('$x/L$', fontsize=20)\n",
    "ax.legend(loc='upper left')\n",
    "ax.set_title('$(mL^2)V(x) = -10^4 \\cdot n(x, \\mu=L/2, \\sigma=L/20)$')\n",
    "plt.tight_layout()\n",
    "ani = animation.FuncAnimation(fig, animate, frames=1000, interval=50)\n",
    "ani.save('animatedWavefunction.gif',writer='pillow',fps=50,dpi=100)"
   ]
  },
  {
   "cell_type": "markdown",
   "id": "a5974ac6",
   "metadata": {},
   "source": [
    "# Changing Units (in reverse)\n",
    "\n",
    "For all of this project, all the calculations were done in the dimensionless units, that is $\\hbar$. Now, to get results that we would like, we have to convert our dimensionless units back to units with dimensions. \n",
    "\n",
    "## Potential \n",
    "\n",
    "We start with: $$(mL^2)V(x) = -10^4 \\cdot n(x, \\mu=L/2, \\sigma=L/20)$$\n",
    "\n",
    "Dividing by $\\hbar^2$, for the left hand side, we get units that have proper units. Doing the math, we get: \n",
    "\n",
    "$$(mL^2/\\hbar^2)V(x) = -10^4 \\cdot n(x, \\mu=L/2, \\sigma=L/20)$$\n",
    "\n",
    "$$\\boxed{V(x) = \\left(\\frac{-10^4 \\hbar^2}{mL^2}\\right) n(x, \\mu=L/2, \\sigma=L/20)}$$\n",
    "\n",
    "Here is the potential, now in the proper units format. \n",
    "\n",
    "## Time\n",
    "\n",
    "Here, time is written as \n",
    "\n",
    "$$(10^4mL^2)^{-1}t= a$$\n",
    "\n",
    "where $a$ is some dimensionless number. In order to make the LHS dimensionless (which currently has units of $J^{-1}s^{-1}$) we need to multiply by $\\hbar$, leading to\n",
    "\n",
    "$$\\boxed{t= \\left(\\frac{10^4 mL^2}{\\hbar}\\right)a}$$\n",
    "\n",
    "Here is the time, now in the proper units format. \n",
    "\n",
    "## $\\psi$\n",
    "\n",
    "Since $\\psi$ depends on time, potential, and other natural constants only, if we fix those values, the wavefunction would be automatically fixed if we make the other changes. "
   ]
  }
 ],
 "metadata": {
  "kernelspec": {
   "display_name": "Python 3 (ipykernel)",
   "language": "python",
   "name": "python3"
  },
  "language_info": {
   "codemirror_mode": {
    "name": "ipython",
    "version": 3
   },
   "file_extension": ".py",
   "mimetype": "text/x-python",
   "name": "python",
   "nbconvert_exporter": "python",
   "pygments_lexer": "ipython3",
   "version": "3.9.6"
  }
 },
 "nbformat": 4,
 "nbformat_minor": 5
}
