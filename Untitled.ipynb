{
  "metadata": {
    "language_info": {
      "codemirror_mode": {
        "name": "python",
        "version": 3
      },
      "file_extension": ".py",
      "mimetype": "text/x-python",
      "name": "python",
      "nbconvert_exporter": "python",
      "pygments_lexer": "ipython3",
      "version": "3.8"
    },
    "kernelspec": {
      "name": "python",
      "display_name": "Python (Pyodide)",
      "language": "python"
    }
  },
  "nbformat_minor": 4,
  "nbformat": 4,
  "cells": [
    {
      "cell_type": "markdown",
      "source": "# The Time - Dependent Schrodinger Equation\n\nThe Schrödinger equation is a linear partial differential equation that governs the wave function of a quantum-mechanical system. The time dependent equation evolves with respect to time - it is not just a function of space. The equation looks like: \n\n",
      "metadata": {}
    },
    {
      "cell_type": "code",
      "source": "import numpy as np\nimport matplotlib.pyplot as plt\nfrom matplotlib import animation \nfrom matplotlib.animation import PillowWriter\nimport numba \nfrom numba import jit\nfrom scipy.linalg import eigh_tridiagonal\npy.style.use(['science', 'notebook','grid'])",
      "metadata": {
        "trusted": true
      },
      "execution_count": null,
      "outputs": []
    },
    {
      "cell_type": "markdown",
      "source": "# Setting up our Project \n",
      "metadata": {}
    }
  ]
}